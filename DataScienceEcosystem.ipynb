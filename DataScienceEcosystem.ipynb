{
  "nbformat": 4,
  "nbformat_minor": 0,
  "metadata": {
    "colab": {
      "provenance": []
    },
    "kernelspec": {
      "name": "python3",
      "display_name": "Python 3"
    },
    "language_info": {
      "name": "python"
    }
  },
  "cells": [
    {
      "cell_type": "markdown",
      "source": [
        "# Data Science Tools and Ecosystem"
      ],
      "metadata": {
        "id": "Ig9bkF_VYXqg"
      }
    },
    {
      "cell_type": "markdown",
      "source": [
        "In this notebook, Data Science Tools and Ecosystem are summarized."
      ],
      "metadata": {
        "id": "u8Nawd7mYplW"
      }
    },
    {
      "cell_type": "markdown",
      "source": [
        "**Objectives:**\n",
        "*   Create a markdown cell to list data science languages\n",
        "*   Create a markdown cell to list data science libraries\n",
        "*   Create a markdown cell with a table of Data Science tools\n",
        "\n"
      ],
      "metadata": {
        "id": "I7HoLfh5kkC4"
      }
    },
    {
      "cell_type": "markdown",
      "source": [
        "Some of the popular languages that Data Scientists use are:"
      ],
      "metadata": {
        "id": "Z3x5KGVSZRqD"
      }
    },
    {
      "cell_type": "code",
      "source": [
        "languages = ['Python', 'R', 'C++']\n",
        "print(languages)"
      ],
      "metadata": {
        "colab": {
          "base_uri": "https://localhost:8080/"
        },
        "id": "9GSwY6wAYqbe",
        "outputId": "72a2f964-cace-4991-8020-974332812706"
      },
      "execution_count": null,
      "outputs": [
        {
          "output_type": "stream",
          "name": "stdout",
          "text": [
            "['Python', 'R', 'C++']\n"
          ]
        }
      ]
    },
    {
      "cell_type": "markdown",
      "source": [
        "Some of the commonly used libraries used by Data Scientists include:"
      ],
      "metadata": {
        "id": "YuNm1UK6Z_ko"
      }
    },
    {
      "cell_type": "code",
      "source": [
        "libraries = ['pandas', 'numpy', 'scikit-learn (sklearn)']\n",
        "print(libraries)"
      ],
      "metadata": {
        "colab": {
          "base_uri": "https://localhost:8080/"
        },
        "id": "MHeWYbtHZrK4",
        "outputId": "a9c7cd7a-f98d-48c3-9115-c7d3c030449b"
      },
      "execution_count": null,
      "outputs": [
        {
          "output_type": "stream",
          "name": "stdout",
          "text": [
            "['pandas', 'numpy', 'scikit-learn (sklearn)']\n"
          ]
        }
      ]
    },
    {
      "cell_type": "markdown",
      "source": [
        "| Data Science Tools |\n",
        "| :- |\n",
        "| Visual Studio |\n",
        "| PyCharm |\n",
        "| Spyder |"
      ],
      "metadata": {
        "id": "sS4eGV3Fak7b"
      }
    },
    {
      "cell_type": "markdown",
      "source": [
        "### Below are a few examples of evaluating arithmetic expressions in Python"
      ],
      "metadata": {
        "id": "3FVo9HBEjXF_"
      }
    },
    {
      "cell_type": "code",
      "source": [
        "# This a simple arithmetic expression to mutiply then add integers\n",
        "(3*4)+5"
      ],
      "metadata": {
        "id": "eYRx2X_vaOZu",
        "colab": {
          "base_uri": "https://localhost:8080/"
        },
        "outputId": "96314042-4dba-4e85-fda5-421176c91e94"
      },
      "execution_count": 2,
      "outputs": [
        {
          "output_type": "execute_result",
          "data": {
            "text/plain": [
              "17"
            ]
          },
          "metadata": {},
          "execution_count": 2
        }
      ]
    },
    {
      "cell_type": "code",
      "source": [
        "# This will convert 200 minutes to hours by diving by 60\n",
        "200 / 60"
      ],
      "metadata": {
        "colab": {
          "base_uri": "https://localhost:8080/"
        },
        "id": "8BnonNkajna4",
        "outputId": "1b72774e-a90d-44b1-c5e7-3ca9141de404"
      },
      "execution_count": 3,
      "outputs": [
        {
          "output_type": "execute_result",
          "data": {
            "text/plain": [
              "3.3333333333333335"
            ]
          },
          "metadata": {},
          "execution_count": 3
        }
      ]
    },
    {
      "cell_type": "markdown",
      "source": [
        "## Author:\n",
        "HUA-TE KUO"
      ],
      "metadata": {
        "id": "uLaPn_OilWP1"
      }
    }
  ]
}